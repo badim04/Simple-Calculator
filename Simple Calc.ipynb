{
 "cells": [
  {
   "cell_type": "code",
   "execution_count": null,
   "metadata": {},
   "outputs": [
    {
     "name": "stdout",
     "output_type": "stream",
     "text": [
      "Select the operation you want to use.\n",
      "1.Add\n",
      "2.Subtract\n",
      "3.Multiply\n",
      "4.Divide\n",
      "5.Modulus\n",
      "6.Roundup\n",
      "7.Roundup with specified decimal places\n"
     ]
    }
   ],
   "source": [
    "def add(x, y):\n",
    "    return x + y \n",
    "def subtract(x, y): \n",
    "   return x - y \n",
    "def multiply(x, y):\n",
    "   return x * y \n",
    "def divide(x, y):\n",
    "   return x / y\n",
    "def modulus(x, y):\n",
    "   return x % y # would display remainder only\n",
    "def roundup(x, y):\n",
    "   return round(x/y) #Round up to nearest whole num\n",
    "def deci_roundup(x, y, z):\n",
    "   return round(x/y, z) #z is the decimal places to roundup to\n",
    "\n",
    "\"\"\" extras sha\n",
    "nummi = 42 // 9#Round up to the last whole num only, like opp of modulus\n",
    "nums = round(10/3, 4)#How many decimal places(4) you want rounded up to\n",
    "\"\"\"\n",
    "\n",
    "print(\"Select the operation you want to use.\")  \n",
    "print(\"1.Add\")  \n",
    "print(\"2.Subtract\")  \n",
    "print(\"3.Multiply\")  \n",
    "print(\"4.Divide\")\n",
    "print(\"5.Modulus\")\n",
    "print(\"6.Roundup\")\n",
    "print(\"7.Roundup with specified decimal places\")\n",
    "\n",
    "# This is for the user to enter the choice of operation using their numbers and press enter\n",
    "whis = input(\"Enter one number between(1/2/3/4/5/6/7):\")  \n",
    "\n",
    "#Using float instead of int for some operations, user to enter numbers \n",
    "x = float(input(\"Enter the first number: \"))  \n",
    "y = float(input(\"Enter the second number: \"))  \n",
    "\n",
    "#if elif n else statement to select only one operation to display and what to display\n",
    "if whis == '1': #has to be two equals to signs\n",
    "    print(x,\"+\",y,\"=\", add(x,y))  \n",
    "  \n",
    "elif whis == '2':  \n",
    "    print(x,\"-\",y,\"=\", subtract(x,y))  \n",
    "  \n",
    "elif whis == '3':  \n",
    "    print(x,\"*\",y,\"=\", multiply(x,y))\n",
    "   \n",
    "elif whis == '4':  \n",
    "    print(x,\"/\",y,\"=\", divide(x,y))\n",
    "\n",
    "elif whis == '5':  \n",
    "    print(x,\"%\",y,\"=\", modulus(x,y))\n",
    "\n",
    "elif whis == '6':  \n",
    "    print(\"Roundup\" ,x,\"/\",y,\"=\", roundup(x,y))\n",
    "\n",
    "elif whis == '7':\n",
    "    z = int(input(\"Enter the number of decimal places: \")) #decimal places has to be integer\n",
    "    print(\"Decimal Places Roundup \", x,\"/\",y,\"=\", deci_roundup(x,y,z))\n",
    "   \n",
    "else:  \n",
    "   print(\"Read the fucking instructions\")"
   ]
  },
  {
   "cell_type": "code",
   "execution_count": null,
   "metadata": {},
   "outputs": [],
   "source": []
  }
 ],
 "metadata": {
  "kernelspec": {
   "display_name": "Python 3 (ipykernel)",
   "language": "python",
   "name": "python3"
  },
  "language_info": {
   "codemirror_mode": {
    "name": "ipython",
    "version": 3
   },
   "file_extension": ".py",
   "mimetype": "text/x-python",
   "name": "python",
   "nbconvert_exporter": "python",
   "pygments_lexer": "ipython3",
   "version": "3.9.7"
  }
 },
 "nbformat": 4,
 "nbformat_minor": 4
}
